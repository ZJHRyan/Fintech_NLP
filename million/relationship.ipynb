{
 "cells": [
  {
   "cell_type": "code",
   "execution_count": 22,
   "metadata": {},
   "outputs": [],
   "source": [
    "# -*-  coding: utf-8 -*-\n",
    "import os, sys\n",
    "import jieba, codecs, math\n",
    "import jieba.posseg as pseg\n",
    "import paddle\n",
    " \n",
    "names = {}            # 姓名字典\n",
    "relationships = {}    # 关系字典\n",
    "lineNames = []        # 每段内人物关系"
   ]
  },
  {
   "cell_type": "code",
   "execution_count": 23,
   "metadata": {},
   "outputs": [
    {
     "name": "stderr",
     "output_type": "stream",
     "text": [
      "Paddle enabled successfully......\n"
     ]
    }
   ],
   "source": [
    "jieba.load_userdict('../resource/people.txt')\n",
    "paddle.enable_static()\n",
    "jieba.enable_paddle()"
   ]
  },
  {
   "cell_type": "code",
   "execution_count": 24,
   "metadata": {},
   "outputs": [],
   "source": [
    "with codecs.open(\"finaldata.txt\", \"r\", \"utf8\") as f:\n",
    "    for line in f.readlines():\n",
    "        poss = pseg.cut(line)        # 分词并返回该词词性\n",
    "        lineNames.append([])        # 为新读入的一段添加人物名称列表\n",
    "        for w in poss:\n",
    "            if w.flag != \"nr\"  :#or len(w.word) < 2:\n",
    "                continue            # 当分词长度小于2或该词词性不为nr时认为该词不为人名\n",
    "            lineNames[-1].append(w.word)        # 为当前段的环境增加一个人物\n",
    "            if names.get(w.word) is None:\n",
    "                names[w.word] = 0\n",
    "                relationships[w.word] = {}\n",
    "            names[w.word] += 1                    # 该人物出现次数加 1"
   ]
  },
  {
   "cell_type": "code",
   "execution_count": 25,
   "metadata": {},
   "outputs": [
    {
     "name": "stdout",
     "output_type": "stream",
     "text": [
      "奥 1\n",
      "杨恩 1\n",
      "费格伦 2\n",
      "女儿 10\n",
      "梅莉丝 3\n",
      "维 1\n",
      "道奇 1\n",
      "谢谢 12\n",
      "凯莉 2\n",
      "芬恩 2\n",
      "妈妈 4\n",
      "张开嘴 1\n",
      "谢谢您 2\n",
      "史托维克 2\n",
      "特蕾莎 1\n",
      "马上会 1\n",
      "胡闹 1\n",
      "安全带 1\n",
      "平顺 1\n",
      "赛奈 1\n",
      "陆军 1\n",
      "阿姨 1\n",
      "艾米许 3\n",
      "祖母 1\n",
      "通耶 1\n",
      "古董 3\n",
      "耶 1\n",
      "梅兰妮 3\n",
      "欧多利欧 13\n",
      "祖先 1\n",
      "文明 1\n",
      "宝贝 4\n",
      "美的 1\n",
      "时髦 1\n",
      "滑进来 1\n",
      "付元 1\n",
      "阿贝 1\n",
      "儿子 2\n",
      "罗伯特 2\n",
      "车库里 1\n",
      "塞勒斯 1\n",
      "小塞 3\n",
      "言语 1\n",
      "老二 1\n",
      "太久 1\n",
      "安静 3\n",
      "真是太 1\n",
      "寇黑塔 2\n",
      "那本书 1\n",
      "罗 1\n",
      "祝福 1\n"
     ]
    }
   ],
   "source": [
    "for name, times in names.items():\n",
    "    print(name, times)"
   ]
  },
  {
   "cell_type": "code",
   "execution_count": 26,
   "metadata": {},
   "outputs": [],
   "source": [
    "for line in lineNames:                    # 对于每一段\n",
    "    for name1 in line:                    \n",
    "        for name2 in line:                # 每段中的任意两个人\n",
    "            if name1 == name2:\n",
    "                continue\n",
    "            if relationships[name1].get(name2) is None:        # 若两人尚未同时出现则新建项\n",
    "                relationships[name1][name2]= 1\n",
    "            else:\n",
    "                relationships[name1][name2] = relationships[name1][name2]+ 1        # 两人共同出现次数加 1\n",
    "\n"
   ]
  },
  {
   "cell_type": "code",
   "execution_count": 27,
   "metadata": {},
   "outputs": [],
   "source": [
    "with codecs.open(\"node.txt\", \"w\", \"utf8\") as f:\n",
    "    f.write(\"Id Label Weight\\r\\n\")\n",
    "    for name, times in names.items():\n",
    "        f.write(name + \" \" + name + \" \" + str(times) + \"\\r\\n\")\n",
    " \n",
    "with codecs.open(\"edge.txt\", \"w\", \"utf8\") as f:\n",
    "    f.write(\"Source Target Weight\\r\\n\")\n",
    "    for name, edges in relationships.items():\n",
    "        for v, w in edges.items():\n",
    "            if w > 3:\n",
    "                f.write(name + \" \" + v + \" \" + str(w) + \"\\r\\n\")"
   ]
  },
  {
   "cell_type": "code",
   "execution_count": null,
   "metadata": {},
   "outputs": [],
   "source": []
  }
 ],
 "metadata": {
  "interpreter": {
   "hash": "d73f051c8040b0e0999f3335ddc20465b3e7ec099a513c96258641fd325ea40c"
  },
  "kernelspec": {
   "display_name": "Python 3.8.0 64-bit ('venv38': venv)",
   "language": "python",
   "name": "python3"
  },
  "language_info": {
   "codemirror_mode": {
    "name": "ipython",
    "version": 3
   },
   "file_extension": ".py",
   "mimetype": "text/x-python",
   "name": "python",
   "nbconvert_exporter": "python",
   "pygments_lexer": "ipython3",
   "version": "3.8.0"
  },
  "orig_nbformat": 4
 },
 "nbformat": 4,
 "nbformat_minor": 2
}

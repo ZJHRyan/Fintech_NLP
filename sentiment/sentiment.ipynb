{
 "cells": [
  {
   "cell_type": "code",
   "execution_count": 20,
   "metadata": {
    "collapsed": false,
    "pycharm": {
     "name": "#%%\n"
    }
   },
   "outputs": [],
   "source": [
    "import numpy as np"
   ]
  },
  {
   "cell_type": "code",
   "execution_count": 22,
   "metadata": {},
   "outputs": [],
   "source": [
    "from snownlp import SnowNLP\n",
    "from snownlp import sentiment"
   ]
  },
  {
   "cell_type": "code",
   "execution_count": 19,
   "metadata": {},
   "outputs": [],
   "source": [
    "text=open('1.txt', 'r').read()"
   ]
  },
  {
   "cell_type": "code",
   "execution_count": 21,
   "metadata": {
    "collapsed": false,
    "pycharm": {
     "name": "#%%\n"
    }
   },
   "outputs": [
    {
     "data": {
      "text/plain": [
       "['看看你坐在那儿觉得自己是个好人你才不是好人相信我现实中就没有好人我以前也像你一样认为努力工作和公平竞争就会带来成功和幸福',\n",
       " '不会的公平竞争就是个笑话是有钱人发明的好让我们这些穷人永远无法翻身而我一直很穷人这招可骗不了我因为这个世界上只存在两种人剥削别人的人和被剥削的人',\n",
       " '捕食者和猎物狮子和绵羊我的名字叫玛拉葛蕾森我可不是一只小绵羊我是一头母狮她是我母亲我应该有权利随时去看望她她不需要呆在疗养院她不需要法院指派的监护人',\n",
       " '她有一个好儿子来照顾她我就是不理解法院怎么可以把我母亲托付给外人葛蕾森女士在我妈妈清楚表达了拒绝的意愿后仍然强制她进入疗养院现在她又拍卖了我母亲的房子她的汽车她的私人物品然后她用这笔收益供自己花销',\n",
       " '现在葛蕾森小姐完全禁止我看望我母亲这就是一场噩梦她绑架了我母亲先生请你保持冷静玛拉葛蕾森是一位受人尊敬的专业监护人并且鉴于你的母亲不能自理她由本法庭以及我本人亲自任命在最大程度上维护你母亲的利益',\n",
       " '禁止儿子的探访是怎么在最大程度上维护我母亲的利益的葛蕾森女士根本不关心我的母亲对不起法官大人我能发言吗请讲葛蕾森女士费尔德斯托姆男士先生我很同情你但是法庭不会无缘无故委托我的你的母亲生活不能自理',\n",
       " '这不是真的医生已经诊断她患有老年痴呆费尔德斯托姆先生并且提供了建议立刻采取措施来保障她安全的证词你本来有足够的时间送她去疗养院或者带她去你家你哪个都没有做她不想离开自己的家好吗',\n",
       " '她求我不要你不能按照她的意愿来照顾她你必须按照她的需要来照顾这就是为什么我比她的家人更适合照料她因为我不会牵扯个人利益进来我只会为你妈妈做对她正确的事所以我承认我管理着你母亲的财产因为必须有人打理',\n",
       " '她自己处理只会一团糟并且我必须支付她的疗养费用所以我承认我监管了她的一部分金融资产的出售我承认我也收取了我的工资因为看护是我的工作先生这是我的职业这就是我一直在做的每一天每个小时我都在看护',\n",
       " '我照看那些需要保护的人保护他们不受冷落保护他们的自尊并且经常性地保护他们不受自己孩子的伤害喂不法官大人你和我见过太多次了子女们宁愿让自己的父母缺衣少食忍受病痛',\n",
       " '也不愿意动用他们已经视为遗产的钱来支付必要的看护费用费尔德斯特伦男士先生我同情你真的但你对你妈妈的探望让她难过上次你去看望的时候你袭击了一位工作人员并且蓄意破环了接待区域这难道不是事实吗',\n",
       " '那个法官大人我认为下达谢绝探访命令的理由已经非常充分这个法庭理应尽全力保护和帮助费尔德斯特伦女士而她儿子的行为正在损害我们在这场斗争中的全部努力',\n",
       " '我同意命令执行什么不行你胜诉了是的我就知道你可以喂臭娘们儿说你呢臭娘们儿',\n",
       " '我觉得他在跟你说话那就喊我名字啊婊子喂你就不怕遭报应吗我们的生活都被毁了我只是在完成我的工作你他妈的工作去你妈的喂',\n",
       " '我祝你被强奸我祝你被谋杀我祝你不得好死你这该死的混蛋活够了吧你这混蛋小心我因为我是女的你是不是更憋屈了竟然被一个娘们搞得一败涂地长了根老二不代表我会不自觉地怕你恰恰相反你可能是个男人',\n",
       " '但如果你敢再威胁我碰我或者冲我吐痰一次我会抓住你的鸡巴蛋然后我会把它们连根扯掉听懂了吗我会告诉你妈你送上了最诚挚的祝福葛蕾森监护谢谢',\n",
       " '柯蒂斯嗨干得不错你又做到了嗨老板恭喜你胜诉了谢谢艾迪现在几点了现在是点分加上往返路程差不多用了个多小时就算六个小时吧向费尔德斯特伦的账户收费收全价',\n",
       " '好山姆莱斯打过电话叫你回电话好的我等下在屋里打弗兰给房地产经纪人打个电话问一下巴特尔财产权的进度储蓄账户差不多没钱了下个月就不够公司开销了知道了费尔德斯特伦接通山姆',\n",
       " '山姆你好吗嗨我很好玛拉你怎么样努力工作努力玩耍了不起你打过电话对我有消息要告诉你好消息还是坏消息都有你的受监护人艾伦李维特',\n",
       " '在我们巴克夏奥克斯这个分院他刚刚死了什么艾伦今天早上走的抱歉不艾伦莱维特真的吗怎么死的中风很严重但他很年轻啊刚刚六十九岁零三个月大',\n",
       " '天啊艾伦该死他才在我们这儿半年我以为他至少还能再支撑我们五年该死我现在必须把他变现了把所有事情推给他的继承人真是太浪费了也许他觉得你人不错把你写进遗嘱里呢',\n",
       " '才怪所以好消息是什么因为艾伦的悲痛离去我们现在有空位了他的房间那是转角的豪华房是的先等我一会儿玛拉你不是城里唯一的玩家',\n",
       " '我这儿还有候补名单呢去他的候补名单多少钱每周两千直到有人住为止两千美元上次是五百美元如果你不交钱别人会的去你的山姆好吧两千美元谢了山姆不客气玛拉怎么了',\n",
       " '你懂的好好开车马上回来嗨佩特拉凯伦医生正在等我艾伦莱维特该死抱歉我还以为他会很长寿我知道所以我们现在正在市场上寻找新客户',\n",
       " '有谁适合我们吗我的确想摆脱掉几个人那几个难伺候的混蛋但是有一个我一直想跟你说的人我一直在调查她而且我觉得她也许是不会吧我都不想说出来肥羊',\n",
       " '是的也许吧我觉得是别逗我告诉我细节拜托玛拉我不能免费送你一个肥羊我需要一些回报你在金光护理院有股份对吧对我们有些股份让我也分一杯羹',\n",
       " '拜托我在帮你挣大钱但是我几乎没挣到什么让我尝尝甜头成交但她必须是真的肥羊要讲诚信詹妮弗彼得森她的身体相当健康但在最近她出现一些失忆和糊涂的症状',\n",
       " '严重吗不严重但是我们可以操纵这点举行一场按我们的方式进行的听审她没有子女没有丈夫没有在世的家人一个都没有她有很可观的保险她告诉我她以前在芝加哥做金融工作然后搬到这里退休',\n",
       " '能给我一份副本吗当然除了她的检查结果那样可不太道德当然了詹妮弗彼得森年月日生人她住在沙尔克罗斯的威廉姆斯街号这是一个不错的社区价格昂贵她七年前买了这栋住房',\n",
       " '完全拥有产权信用极佳没有丝毫不良记录没有债务没有犯罪记录从未结婚她在同一家公司工作了四十年转身踢腿她的退休应该是公司进行了裁员清偿了债务现在她坐在一窝金蛋上',\n",
       " '像只肥得流油的鹅看看这个她的税收报表上面显示她有三个单独的储蓄账户都在替她赚取高额利息她喜欢白天去看电影她经常读书喜欢园艺就是你常对付的那种老太太她正坐在一堆钞票上',\n",
       " '她有钱独立有文化这位女士简直就是我的英雄啊凯伦我是玛拉开始动詹妮弗彼得森吧你会得到你想要的股份彼得森女士经常犯糊涂并且表现出记忆和自理困难的问题她的行动能力受损',\n",
       " '她不能够充分地照顾自己我相信如果她独自留在自己家中会处于高危状态她没有家人吗除了我们没有人会照顾她这太糟糕了可怜的女人好吧葛蕾森小姐你觉得你能收她为你的被监护人吗我知道你需要照顾的人已经有很多了',\n",
       " '可以法官大人如果你需要我去照顾她的话我可以照顾她谢谢你玛拉监护人证书彼得森女士我叫玛拉葛蕾森我和你的主治医师凯伦艾莫斯一起合作我能和你谈两分钟吗',\n",
       " '早上好彼得森女士我很抱歉这么早打扰你你是位医生吗不女士我我能给你看看这个吗我需要去拿我的老花镜马上就回来我不确定这是什么东西这是法院命令女士法院命令',\n",
       " '但是这跟我有什么关系这是你的名字对吧詹妮弗彼得森你的出生日期你的社保号码和这个地址我的天啊是我做错了什么吗没有女士这是为了帮助你法院在医生的指导下已经裁定你需要协助才能照顾好自己',\n",
       " '法院已经委派我做你的法定监护人什么我不当我们无法充分照顾自己的时候国家会介入进来提供帮助有人受苦的时候我们不能坐视不管我没有受苦我很好我再好不过了我不需要帮助恐怕这不是我或者你来决定的',\n",
       " '法院已经做出裁定认为你需要帮助而作为你的法定监护人确保你无论什么时候都受到充分地照料是我的职责所在让我告诉你吧我从没上过法庭这是我第一次听说法院找我在紧急情况下法庭可以在潜在监护人未到场的情况下开庭难以置信',\n",
       " '女士你必须跟我走我哪儿也不去这是法院的命令如果你拒绝执行恐怕会有一些麻烦我的天如果你觉得有什么误会请向法庭报告申请一场听审但是现在我还是建议你暂时跟我去一趟',\n",
       " '我为你找到的疗养所如果你觉得有什么误会我们可以在那里解决这位是弗朗西丝她会帮你收拾行李早上好很高兴认识你我不敢相信会发生这种事完全没事的别碰我我很抱歉',\n",
       " '别碰我家里很漂亮彼得森女士交给我吧我会监督维护你的房产直到你自己能处理我们走吧我们只想确保你的财产能被安全地维护谢谢你柯蒂斯安全带',\n",
       " '玛拉情况如何了她是不是不肯就范没她收拾好行李就跟我们走了这些人基本不会反抗他们看到官方文件和警察就会乖乖跟我们走了换我的话可不会乖乖就范是的你说过但是本质上我们大多数都很',\n",
       " '软弱温顺胆小确实你听说过米尔格拉姆实验吗现在别聊这个山姆我们已经在送她过去了好吧山姆我们接待她要上全套戏码收到巴克夏奥克斯老年人之家未经许可不得入内',\n",
       " '欢迎到家进来吧我都忘了房间有多大了是啊怎么不坐呢这样就有家的感觉了他们知道你所有的健康状况所有你要吃的药不用担心他们会照顾好一切的',\n",
       " '如果你需要我任何时候都可以不管是白天还是晚上说一声就行好吗你有手机吗解锁吧我会存上我的号码如果你需要打电话说一声就行好吗现在彼得森小姐我想说我很荣幸能成为你的监护人',\n",
       " '请记住我是你这边的我是来帮你的山姆你要像对待女王那样对待这位女士你听见了吗她想要什么都行当然了保重彼得森女士我们会很快再见的我们这边还有东西仅限授权人员通过',\n",
       " '能开门吗我想透透气你得往那边走我只是想透透气能开下门让我透透气吗你得回去那边为什么我需要你回到休息区你能拿一下这个吗待售',\n",
       " '谢谢这是我的荣幸拍卖编号四十五号这位男士布莱顿房地产拍卖成交我喜欢你的翘臀嗨不知道能否请你帮我一下我需要用一下我的手机',\n",
       " '你能帮我找一下吗彼得森女士为了我们贵宾的安全手机会被放置到保险的地方我的手机不会伤害到你的我们的原则是要经过你的监护人不我不需要我的监护人你知道吗我可以打给我能和负责人谈谈吗莱斯先生现在没时间见你',\n",
       " '莱斯先生就在这儿但是他没时间见我莱斯先生喂女士冷静别碰我我需要你冷静下来你们为什么要这样碰我我理解',\n",
       " '我很冷静离我远点儿冷静不别让他们那样对我彼得森女士我希望你冷静下来布莱顿信托银行授权批准资金发放好了这是你们银行某个保险柜的钥匙吗',\n",
       " '德国马克接彼得森女士的出租她已经不住这里了什么她搬走了彼得森小姐搬走了我弄错了谢谢麻烦问一下谁给你打电话的',\n",
       " '麻烦问一下靠先生就他自己她去哪儿了她不在家里你准时到那儿了是的先生不可能七年来她从来没有错过约定的见面',\n",
       " '那房子装修了房子已经被清理了前门外面挂着待售的标志里面有人他们在刷墙我跟一个拿着布料样品的女人说话她说她已经不在那里住了我没明白里面都是谁她现在在哪儿',\n",
       " '我不知道我直接来的这里你明明知道这对我有多重要也没想着去问问吗你没想过要了解一下基本情况吗先生如果我求你了先生求你了我想我可以趁着别人你搞砸了亚历克西',\n",
       " '我非常爱我的妈妈而这种日子这种我们偶尔一起度过的几天日子是对我的赐福是的先生当然了所以你去找到她然后把她带到我这儿立刻没问题好的先生',\n",
       " '然后我打开了袋子你猜里面是什么钻石很多钻石纯裸钻这是她保险箱的保单她列出了黄金首饰债券但是没有钻石她给六百美元的手表买了保险',\n",
       " '但是没保几百万美元的钻石你觉得它们是被偷来的有可能她看起来不像那种人别被老人给骗了即使是虐待狂和无耻的混蛋也会变老但你落下了重点重点是这些钻石不是公开存在的所以',\n",
       " '没人会惦记它们你想偷走它们不我想改变保管它们的位置存放一段时间看看会发生什么有事抱歉先生我可以晚点再过来你找到我妈妈了吗',\n",
       " '算是吧她在一所养老院里出售据我目前所知先生我无法进去先生最后一批毒骡今天早上到了运送过程中有损失吗三个我们会在梅德菲尔德的房子那儿从他们手里拿到货',\n",
       " '那是我要的奶昔吗我没明白她把自己送进了养老院不是她是被法院命令送去的她现在是政府的被监护人了你妈妈的医生认为她没有能力照顾自己这不是纯属胡扯嘛',\n",
       " '是啊先生所以怎么会这样呢玛拉葛蕾森我认为这是她干的她是你母亲的监护人她现在完全接管了你母亲的人生和财产操打给迪恩',\n",
       " '把我妈妈带出那个养老院保障她的安全要在暗中解决解决得合法且干脆一点别把我牵扯进去好的先生不照片留下玛拉葛蕾森很高兴认识你',\n",
       " '迪恩埃里克森他说他有预约但他不在名单里请允许我占用你五分钟的时间这非常重要你可以占用两分钟办公室真漂亮很有格调这些都是你的被监护人我有什么可以效劳的',\n",
       " '埃里克森先生身上担着这么多人的责任你一定忙得不可开交吧我可以想象到文书工作有多繁重请坐有话直说吧我是一位律师我不需要律师我代理詹妮弗彼得森真的吗',\n",
       " '是的我觉得存在着什么误会你看我的客户非常有能力照顾自己她不需要像你这样的一位监护人当然了我并不是在表达不满我确定你为彼得森女士提供了绝对优秀的看护服务但是实际情况是她既不需要也不想要你的看护她自己一个人很好',\n",
       " '她打给你了什么她在疗养院里打电话给你了她打了你上次见她是什么时候不久之前那是多久就几周吧几周呢两周三周四周',\n",
       " '三周也许四周三周她很好她再好不过了她大多数时间比我还更健康更专注恐怕这就解释得通了两周前詹妮弗的健康出现了严重恶化她出现了记忆衰退这是老年痴呆的表现而她的医生非常担心她',\n",
       " '她向法院寻求紧急帮助这都是瞎掰的葛蕾森女士你清楚我也清楚如果医生真的写了批条那他也很清楚她什么她医生是位女士好',\n",
       " '现在我知道你在玩什么我了解你的游戏你的强取豪夺是吗我知道老实说这是个好办法你看到了机会就抓住了看看你墙上挂的这些摇钱树不断地往你的账户里送钱',\n",
       " '简直日进斗金你干得很好我不是来毁你生意的你能继续榨干这群又穷又脆弱的人我很为你开心你干得越久越好天啊如果你的事业不是美国梦的完美案例我就不知道什么才是了但是詹妮弗彼得森不行',\n",
       " '没人可以碰她我理解我明白你为什么瞄准了她我只是按照医生的建议做的是啊当然我们暂且认为是这样但是她的医生误诊了听懂了吗他抱歉她搞砸了詹妮弗需要尽快脱离你的看护你需要让那个女医生再写一封信',\n",
       " '说詹妮弗完全康复了并且不再需要受到监护人的照顾了我为什么要这样做这个嘛我能想到两个理由第一这样做是正确的不过我猜这对你来说毫无意义第二因为她有几个可以让你过不得舒服的',\n",
       " '很有权势的朋友极度地不开心不舒服这是威胁吗不这只是你需要知道的背景资料能有多不舒服极度残忍的不舒服然后最终好吧这样说吧你就再也感受不到',\n",
       " '舒服还是不舒服了因为我会死吗什么我没这么说但每个人都会死对吧只不过有人死的早了点以一种更可怕痛苦的方式死去你为谁工作詹妮弗彼得',\n",
       " '骗人不好意思骗人詹妮弗没从疗养院给你打电话你以为我会蠢到让我的新被监护人轻易拿到能打通的电话我从她的文件里得知她的律师是处理家庭法的本地人不是你你是一条',\n",
       " '想威胁我的恶鲨我想知道是谁雇了你让她脱离你的监护不迪恩我不觉得我会这样做我以为没必要用这招呢这是十五万美元现金出手真大方你放她走这就都是你的',\n",
       " '你知道我怎么想吗迪恩如果你谈判的开场白是十五万美元那么对于派你来的人来说詹妮弗彼得森的价值要远远超过这个价值我可以涨到二十五万这样吧五百万三开头的吧',\n",
       " '三亿三十万这是最终报价迪恩我有着法律责任詹妮弗彼得森需要我的保护我怎么能抛弃她呢你是在拒绝吗我是在拒绝我在说不行谢谢',\n",
       " '在接下来的几天里你会在脑海中一次又一次地回想这次对话并且会希望你做出了不同的选择现在看看你所拥有的吧蒸蒸日上的生意员工一张漂亮的脸蛋还没折的骨头性命',\n",
       " '等这件事结束你就不会有这些了一个都不剩这是最后的机会再见迪恩你出去之后柯蒂斯会帮你取车我往回查过了她一直到她出生证明的记录我在她的一生中找不到我们值得畏惧的人',\n",
       " '那这个律师是谁也许他知道钻石的事对我也是这个看法也许他指望着我们呢他害怕我们找到那些钻石也许你应该接受那些现金然后放弃我们有史以来最好的机会如果他说的是真的该怎么办关于什么',\n",
       " '关于威胁你知道我被男人威胁过多少次吗几千次你知道我有多少次真正遇到麻烦了吗两次他威胁我因为那是他唯一能做的了你无法让一个女人做你希望的事情还同时骂她是婊子威胁要杀了她',\n",
       " '我不怕他好吧那你想怎样我要去找总有解决办法的人谈谈她怎么样了她来了之后一直很不安定他们都是这样的是但是她尤其强烈医生不得不给她注射药物',\n",
       " '来让她安静两次了她在游戏室但我必须警告你我们没办法只能给她打了镇定剂所以她可能还没过药劲我今天要展示给你们它用普通的芝士詹妮弗你感觉怎么样我为什么会认识你',\n",
       " '我是你的监护人玛拉谢天谢地我需要帮助我需要我的手机打给谁什么你需要打给谁为什么詹妮弗你认识一个叫迪恩埃里克森的人吗',\n",
       " '谁什么迪恩迪恩埃里克森你认识他吗迪恩不我不认识不认识他说他为你工作他说他是位律师律师他看着很贵吗',\n",
       " '这个嘛是吧我想今天几号十五号八号在上周没错现在你有麻烦了真的吗为什么是的他要来了',\n",
       " '谁迪恩不是他要来了谁你就等着吧詹妮弗你是谁打了好多药药我没法思考了告诉我你是谁',\n",
       " '告诉我你知道我有打开你保险箱的权限我知道里面有什么书里面有个袋子告诉我你是谁你是个强盗不我是你的监护人你是我的监护人强盗',\n",
       " '告诉我你是谁詹妮弗告诉我我是你犯下的最严重的失误告诉我手机告诉我你不肯把我的手机还我你不让我离开这个地方我是什么都不会说的',\n",
       " '听我说什么都不会我控制着你的药物你的食物你的舒适与否你的一切是我不是你是我对我可以让你的一切变得很糟',\n",
       " '你听到我说的了是吗是啊那就来啊你个小王八犊子放马过来吧不好意思玛拉葛蕾森我最爱的女士山姆我想让你调整',\n",
       " '詹妮弗彼得森的日程请讲把她的关节炎和止痛类药物减少至最低把她的体育锻炼升到第四等级玛拉晚上九点给她上兴奋剂然后白天打镇静剂只给她吃基础食物套餐',\n",
       " '没有固体食物只有麦片和汤没有游戏没有电视每天只允许离开她的房间三十分钟你确定吗我非常确定好多谢了山姆布莱顿信托银行法官大人詹妮弗彼得森最近',\n",
       " '在违背意愿的情况下被送进了疗养院她被这个女人丢在那儿她虚伪地宣称詹妮弗有着健康问题而实际上她当时状态非常好你是哪位先生我从没在这儿见过你迪恩埃里克森法官大人这些都是我的同事',\n",
       " '我仅代表詹妮弗彼得森的利益我是来挽救缺席的正义你是在说我应该对正义的缺席负责不是有意的法官大人您被欺骗了我的委托人没有被邀请参加初审听审也没请代理人这对紧急听审来说非常正常但这个案子里不存在紧急情况',\n",
       " '这是被葛蕾森女士虚构出来为了不让詹妮弗出席并欺瞒法院我有一份来自曾跟随艾莫斯医生实习的前雇员的证词能够证明葛蕾森女士和艾莫斯医生经常在病例上串通来钻这个体系的空子',\n",
       " '我引用证词无论他们是否需要监护人凯伦都会把棘手的病人卖给玛拉然后夸大病人症状来控制法庭的宣判法官大人这种做法太无耻了法官我可以发言吗菲奥娜雅各布斯是你的证人',\n",
       " '是的她是雇员之一是的法官你是知道菲奥娜记恨凯伦的她不是一个公正的证人菲奥娜对凯伦一直怀有积怨因为凯伦曾因她工作差劲开除了她凯伦开除她也可能是因为她要掩盖你们行为的真正本质我认识菲奥娜她确实工作差劲法官我能再次质询',\n",
       " '为什么詹妮弗今天又没出席吗詹妮弗身体抱恙她无法出庭而且我已经递交了她的医生提供的证明此事实的相关文件还有我被拒绝和她有任何接触法官就像是葛蕾森小姐有意阻止我接近她你有拒绝他探访吗玛拉你不能阻止律师与他的客户接触',\n",
       " '法官这个人自称是她的律师他无法出示任何有关证明没有合同也没有订金他只是突然出现在我的办公室里制造威胁和控告法官大人你和我都不止一次见到过无良律师为了老人们辛苦挣来的钱寻求办法利用他们',\n",
       " '我想这就是为什么埃里克森先生想要彼得森小姐脱离我的保护那跟现在的情况恰恰相反先生你能提供任何书面文件来证明你是彼得森女士的律师吗如果我能接触到她我保证她会签约聘请所以詹妮弗彼得森还没雇佣你做她的律师',\n",
       " '我代表相关人士代表非常担心詹妮弗的人担心这个人一直以来对詹妮弗的残暴对待那这些相关人士是谁我无权透露他们是希望保持匿名的彼得森女士的朋友先生我们一直在绕圈子',\n",
       " '要么给我看一下能证明你是彼得森女士律师的文件要么你带这些相关人士过来参加听审并让他们代表自己发言不过现在呢埃里克森先生你要终止监护关系的请求被驳回了先生听着好吧这是家事法庭',\n",
       " '好吗那个法官就是个混蛋他是个白痴他根本不懂法律就连他开的车都不上档次别说了闭嘴去他妈的早上好早上好我叫威尔特史密斯他们是我的兄弟托尼和查德',\n",
       " '我今早和你们的经理莱斯先生约了一次设施的参观太好了我会帮你打电话叫他的谢谢史密斯先生史密斯先生好的玛拉她去世了',\n",
       " '谁詹妮弗彼得森去世了什么什么时候在年当她三个月零九天大的时候死于小儿麻痹那个我们关着的女人玛拉不是詹妮弗彼得森',\n",
       " '她窃取了一个死去孩子的身份信息你可以看到我们有来看看这个小儿麻痹再次夺走生命我在旧报纸上找到了那个死去女孩的讣告当然了我们还有最好的医护人员和现场设施那么还有什么问题吗',\n",
       " '其实有一个我父亲有个朋友住在这儿我们想看看能否打声招呼这对我们很重要当然了叫什么名字詹妮弗彼得森有什么问题吗不行詹妮弗身体不舒服她在休息',\n",
       " '我们会很快的我们答应过父亲希望你能理解当然了问题是詹妮弗的监护人规定她只接守预约过的探访者真奇怪她听着有点像囚犯而不是来宾不不是的这样吧不如',\n",
       " '我为你接通詹妮弗的监护人然后看看我能做什么吧好喂你们把他怎么了我去来人救救莱斯先生找到她去啊救命杰瑞',\n",
       " '该死封锁大楼那我们关的是谁我不知道但这种被窃取身份的手段非常高明包括护照驾照工作关系能回溯年的纳税纪录他们洗刷了真正詹妮弗彼得森的所有痕迹',\n",
       " '包括她的死亡证明玛拉葛蕾森对靠我现在就过去詹妮弗女士女士查德',\n",
       " '谢谢女士趴下女士有人吗闪开快闪开总算等到你了开门',\n",
       " '你不想这样的开门听好了我已经做好把你们全杀了然后离开的准备你们准备好为了阻止我而送死了吗我就知道谢谢就在这边女士',\n",
       " '嗨别他妈碰我那边去你的抓到你了不不行是啊假期结束了走吧武器已缴',\n",
       " '手举起来转身你叫什么名字你为什么要绑架那个老太太想打个电话吗想吃个甜甜圈吗他还不知道但我们在系统里搜到了他他已经进去过几次了他是谁亚历克西伊格纳捷夫',\n",
       " '尼古拉斯伊格纳捷夫的哥哥曾是克利夫兰俄罗斯黑手党的一名小头目曾是尼古拉斯七年前和他的老板罗曼鲁涅夫共同死于一场火灾那是一起纵火一次袭击他们被抓到牟取私利这俩混蛋是毒品走私犯',\n",
       " '还牵扯了一堆谋杀案我们以为亚历克西也在大火中死了但他出现在了这里试图绑架你的被监护人话说回来她是谁你的被监护人谁也不是她是个退休的女商人有钱吗一般般吧好吧也许这只是一次普通的抢劫',\n",
       " '你们今天做得很好阻止了他们这家伙是个大坏蛋帮我个忙如果你听说了其他消息记得告诉我们当然弗兰基卢别叫我弗兰基了你以前喜欢别人叫你弗兰基',\n",
       " '是啊现在不是了弗兰基这都是以前的事了我喜欢弗兰基不要对是我我需要一点东西你好',\n",
       " '抱歉我要关门了你有预约吗本地医生被发现身亡布莱顿县沙尔克罗斯凯伦艾莫斯医生的尸体在她的办公地点被发现警方称尽管已经放弃搜查但仍不能确定是否为自杀弗兰玛拉',\n",
       " '你听说凯伦的事了吗是啊我的天啊宝贝好收拾行李我们得走他们既然杀了她我们就是下一个我们还不确定是他们杀了她凯伦也许有别的我们不知道的麻烦真的吗你觉得是这样好吧',\n",
       " '玛拉我不想你的脑袋也挨枪子我也不想挨枪子那我们就不会挨枪子玛拉我们找到詹妮弗彼得森是因为她是肥羊一个无依无靠没有子女的独居肥羊但是她她是盘根错节的蜘蛛网而我们都会被困在网里也许会吧但也许不会',\n",
       " '他们持枪闯进了疗养所他们是俄罗斯黑手党玛拉前俄罗斯黑手党玛拉你他妈打包吧靠柯蒂斯我是玛拉是的我们看到了我知道对你应该关闭办公室',\n",
       " '挺过这段时间好吗你能尽快给我发一份我们在册的所有空置未售的房产名单吗越快越好好谢谢再见不会有事的詹妮弗你感觉怎么样很好',\n",
       " '听说艾莫斯医生的事了亚历克西是你的儿子吗什么不是那个蠢货但是你跟俄罗斯黑手党有关系他下一个会杀了你我是说除非你现在让我出去说不定他会饶你一命詹妮弗你给我听好了我的字典里没有输这个字',\n",
       " '我不会输的我绝不会让你走你是我的我还会榨干你的钱你的舒适和你的自尊不是因为我想这样不是因为我享受这样或者我计划这么干而是因为你的人不按规矩来',\n",
       " '你想击垮我那就光明正大地冲我来把我送上法庭赢过我你不应该把枪带进疗养院不应该杀我朋友这就是你现在的处境詹妮弗你不过是一个有老年痴呆大小便失禁关节炎住在疗养院的老太婆罢了',\n",
       " '除了我你谁也别想见詹妮弗或者不管你是谁你会死在这里独自一人并且承受巨大的病痛喂放开她放手这就对了放开她轻轻地松手',\n",
       " '不要她才是坏人天啊玛拉你没事吧她伤到你了吗只是皮肉伤我很幸运但是下次呢如您所见她的精神健康严重恶化如这位医生所描述的那样',\n",
       " '彼得森女士有幻想症妄想症并且有暴力倾向她对别人和她自己来说都是个危险的存在她的医生和我本人都建议马上把她送到安全的精神病院在那里她的需求会得到更充分的照顾我同意',\n",
       " '不用担心这属于你的一个被监护人我只需要一个大概的价格估计伊这块石头品质很高可不是什么廉价品能值多少钱零售价万也许能卖万美元这颗很不错的你介意替我保管一段时间吗',\n",
       " '锁在你保险箱里有麻烦吗不是不我只是要出去跑腿不想一整天都放在包里谢了弗兰向你问好她让我问问你哥麦奇的情况麦奇',\n",
       " '对他还做买卖吗为什么你需要黑市吗以后也许会迈克尔还在到处做买卖很好嗨怎么样了她把鱼饵甩给麦奇了吗对他可能是个出路很好',\n",
       " '喂你带了我们的护照吗护照该死我去宝贝没有我没带你呢该死没有我离家很近你想的话我可以去拿一趟我觉得以防万一我们应该拿一下但要小心啊',\n",
       " '好老地方见行就这样好拜怎么了我的天啊你没事吧我不知道我觉得有人我的天',\n",
       " '放开我你好玛拉葛蕾森我不喜欢你你才刚见到我知道吗你让我想起了一个我年轻时认识的人她像你一样火爆有趣自信不愿合作',\n",
       " '我用面包刀把她的手指都切掉了她现在被埋在吉米约翰餐馆下面了不要低估我你是谁一个危险的人物你的名片上就这样写的你现在应该害怕为什么你要再做一次大型演讲吗',\n",
       " '老天爷啊你从我这儿偷了东西不仅仅是一个老太太你知道我在说什么现在我的人正在找你偷的东西他们会掀了你的办公室你的家并且如果他们没找到该找的我会把你慢慢撕碎直到你告诉我它们在哪',\n",
       " '玛拉你认得这个女人吗那是你妈妈不是吗我毁了你之后我会毁了她随便我才不在乎那个反社会变态对了我我不喜欢生气我更喜欢保持冷静但你已经破坏了我花费多年精心打造的生活',\n",
       " '你知道我是谁吗不知道但我觉得我能猜到你要么是尼古拉斯伊格纳捷夫要么是罗曼鲁涅夫我猜你是罗曼鲁涅夫因为比起一个战士你更像一个老板所以你伪造了自己的死亡害怕你克利夫兰的朋友们会利用你母亲把你揪出来',\n",
       " '所以你把她变成了詹妮弗彼得森我现在要杀了你好的你不怕死你还记得年有多恐怖吗不我也不记得因为我还没出生呢但我死的时候感觉也不会有什么区别什么感觉都没有了为什么要害怕',\n",
       " '总之你不需要杀我当你派那个带着一整箱钱的律师过来的时候你的直觉是对的我愿意被收买你的人只是出价太低了你有没有预期数字有我要一千万美元你当然这么想了',\n",
       " '你很你很勇敢葛蕾森女士愚蠢但是很勇敢要在这个国家成功你必须勇敢还要愚蠢无情专心致志因为公平竞争畏首畏尾什么都带不来只会带来你的失败你知道的',\n",
       " '而我想要有钱鲁涅夫先生我想要非常的有钱而我的赌注就是一千万美元对你来说不是什么大钱但对我来说这只是个开始这样就足够把钱当武器了当成压迫手段像真正的有钱人做的那样',\n",
       " '那就是我想要的你手里没有牌我有你妈妈和你的钻石我保证如果我死了你永远都别想看到那些钻石了然后在这样的情况下救你的母亲脱困会非常复杂在她重获自由之前那还需要好几年的努力',\n",
       " '如果她能撑到那时候的话给我钱就行了这是最简单的方法除掉她要确保手法看着自然一点你有公共电话吗如果你让我用下你的手机我就给你美元嗨我是弗兰请给我留言',\n",
       " '你能给我叫辆出租车吗弗兰宝贝不我的天啊弗兰弗兰玛拉我以为我们都死了没有',\n",
       " '我们还活着亲爱的待售我好怕我真的很抱歉我很抱歉没事的莉莉布莱特牙科你感觉怎么样好多了',\n",
       " '那是什么玛拉这是我们俄罗斯朋友开的车的牌照弗兰只要你开口我们就走找一个新地方重新开始只有我们然后做什么我们失去了一切不是一切哦我们可以带着它们逃跑',\n",
       " '或者你可以打个电话帮我问到那个牌照注册的地址如果我们逃跑的话我们会永远担惊受怕我们会永远等着他们找上门来现在结束这一切不是更好吗你有计划了我确实有会成功吗',\n",
       " '我不确定把手机给我行了我们到了这就是牌照的地址那栋吗对他不可能住在这里面也许牌照是偷来的不牌照能查到是一辆黑色的育空车',\n",
       " '绕到后面去我想要靠近点看那不是他是他的司机走他出发了在那儿跟着他他要停车了先生你的车到楼下了小心点嗨',\n",
       " '我约了盖伦与赫尔希公司的奈洛先生在三楼吧我记得我其实有点来早了在我等的时候有洗手间可以用一下吗当然走过那个转角在你的左手边谢谢高管停车场地下二层',\n",
       " '嗨你能帮我一下吗我觉得我来错楼层了却找不到出口这是地下一层吗这是地下二层出口就在拐角旁边我不能坐那边的电梯吗那是私人电杰克逊去哪儿了又见面了先生喂',\n",
       " '他在里面吗躺在他自己的尿里你想甩掉他吗带路吧你觉得他有多重公斤公斤差不多好好睡吧混蛋你醒了你感觉怎么样',\n",
       " '不要开口说话你喉咙里有一根管子看到了吗你是个无名氏黑户你差点死于过量服药你很幸运他们及时救了你你想听一个有趣的事实吗当一位失去自理能力的无名氏被发现政府会自动地替他们',\n",
       " '委派一位法定监护人来监督他们的治疗与身心健康你知道现在是怎么回事了吧我现在是你的法定监护人我逮到你了无名氏我想对你做什么就做什么现在我们找个护士把管子从喉咙里拔出来好让你筹备一千万美元赎金',\n",
       " '打进我的账户呼叫护士叮咚喉咙怎么样了还是很疼我知道你不喜欢失败但作为你的监护人我建议你放下自尊然后给我钱你可以领走你妈妈',\n",
       " '你的钻石你的自由你再也不会见到我了就算我给你钱了你不怕我还是会杀了你吗我不怕不会我很轻易就能做到我知道但是这事再拖下去',\n",
       " '我也可以很轻易就杀了你好吧同意了我们现在就了结吧我会给你一千万美元我可以筹备但是但是我想提出一个替代方案',\n",
       " '与其给你一千万美元不如我们一起合作一起做生意你在耍我吗不我认真的我的意思是我是恨你但是我们可以一起赚大钱',\n",
       " '你是个难得的人才玛拉你的决心坦白说很吓人但是这套监护人诈骗体系很成熟但现在还是盘小菜我提议我们一起干点大事一个全国范围的监护人企业你来当首席执行官和合伙人利用我的资金利用你的',\n",
       " '技巧毁掉竞争对手控制整个市场你想跟我一起开家公司不只一家公司一家拥有个海外注册分公司的联合集团互相开具发票掩盖利润有一个真正的房地产团队',\n",
       " '一个法律团队一个培训团队一个医疗团队一个制药团队我们自己的疗养院产业链没错有几千个监护人为我们工作有成千上万的被监护人受我们照顾这样你就赢了我也赢了我们让对方成为亿万富翁',\n",
       " '大多数时候都合法那钻石怎么办去他妈的钻石平分了五五开我们要怎么互相信任呢如果我们让彼此有钱了信任也就随之而至所以你加入吗',\n",
       " '所有的财富都是从大胆地尝试开始但在尝试之前首先花点时间好好审视一下自己清楚自己是谁问问自己我是局内人还是局外人葛蕾森监护',\n",
       " '良好记录证明我是只绵羊吗葛蕾森还是狮子我是捕食者吗未来监护人培训学院还是猎物我擅长赚钱还是擅长交际',\n",
       " '为了实现梦想我又愿意牺牲什么玛拉葛蕾森总裁及创始人哪条底线是我会坚守的不要尝试成为别人你只要清楚自己是什么样的人然后把这一点变成自己的优势那么你是哪种人呢我吗',\n",
       " '我只是在乎很多的人所以你是只狮子还是绵羊我是一头母狮我会做我能做的一切来保护我在乎的人好啊你在如此短的时间里取得了惊人的成功玛拉你的秘诀是什么',\n",
       " '没有什么秘诀皮特想要成功只有努力工作和永不言弃的勇气和决心所以你现在是有钱人了你的身价是多少你在银行里有多少存款你太棒了我假笑了那么久脸都疼了我最近没怎么算过',\n",
       " '但你绝对是人群富豪中的顶级富豪我们现在该做什么呢想做什么都行喂贱人你才只有三十九岁那一定感觉很好喂贱人听着我没时间玛拉',\n",
       " '不保安我的天我妈妈去世了救命来人啊你从来不让我见她现在她孤独地死在那儿了你个臭婊子我们需要帮助夺下武器该死的贱人',\n",
       " '来人救救她玛拉宝贝你会没事的不看着我宝贝看着我听我说你不会有事的你会玛拉救命玛拉不要玛拉不要',\n",
       " '救命啊所以在有这么多成就之后救命你还怀有野心吗你还有梦想要去实现吗皮特我才刚开始而已玛拉葛蕾森葛蕾森监护的首席执行官和创始人谢谢你谢谢今天的采访很有趣']"
      ]
     },
     "execution_count": 21,
     "metadata": {},
     "output_type": "execute_result"
    }
   ],
   "source": [
    "text=text.split('\\n')\n",
    "text"
   ]
  },
  {
   "cell_type": "code",
   "execution_count": 23,
   "metadata": {},
   "outputs": [],
   "source": [
    "sentiment.train('../resource/neg.txt', '../resource/pos.txt')\n",
    "sentiment.save('sentiment.marshal')"
   ]
  },
  {
   "cell_type": "code",
   "execution_count": 24,
   "metadata": {},
   "outputs": [
    {
     "name": "stdout",
     "output_type": "stream",
     "text": [
      "0.40625000000000033\n",
      "0.40625000000000033\n",
      "0.4053225130491107\n",
      "0.1000000000000002\n",
      "0.4053225130491107\n",
      "0.4053225130491107\n",
      "0.5333333333333335\n",
      "0.25000000000000044\n",
      "0.4053225130491107\n",
      "0.4053225130491107\n",
      "0.4053225130491107\n",
      "0.4053225130491107\n",
      "0.4053225130491107\n",
      "0.6494845360824746\n",
      "0.27835051546391787\n",
      "0.4053225130491107\n",
      "0.790697674418605\n",
      "0.12091898428053205\n",
      "0.4053225130491107\n",
      "0.6494845360824746\n",
      "0.27835051546391787\n",
      "0.4666666666666667\n",
      "0.4666666666666667\n",
      "0.4053225130491107\n",
      "0.2500000000000001\n",
      "0.8139534883720931\n",
      "0.5263157894736845\n",
      "0.4053225130491107\n",
      "0.09090909090909094\n",
      "0.4053225130491107\n",
      "0.6494845360824746\n",
      "0.27835051546391787\n",
      "0.4053225130491107\n",
      "0.4053225130491107\n",
      "0.36363636363636365\n",
      "0.4053225130491107\n",
      "0.4053225130491107\n",
      "0.4053225130491107\n",
      "0.4053225130491107\n",
      "0.25000000000000044\n",
      "0.41666666666666685\n",
      "0.4053225130491107\n",
      "0.3333333333333337\n",
      "0.6250000000000003\n",
      "0.6363636363636364\n",
      "0.04166666666666685\n",
      "0.4053225130491107\n",
      "0.5333333333333339\n",
      "0.5333333333333333\n",
      "0.5000000000000004\n",
      "0.37500000000000044\n",
      "0.4053225130491107\n",
      "0.43750000000000033\n",
      "0.25000000000000044\n",
      "0.4053225130491107\n",
      "0.3333333333333339\n",
      "0.5000000000000004\n",
      "0.4053225130491107\n",
      "0.6666666666666671\n",
      "0.7777777777777779\n"
     ]
    }
   ],
   "source": [
    "sentimentslist = []\n",
    "for i in text[0]:\n",
    "    try:\n",
    "        s = SnowNLP(i)\n",
    "        print(s.sentiments)\n",
    "        sentimentslist.append(s.sentiments)\n",
    "    except:\n",
    "        pass"
   ]
  },
  {
   "cell_type": "code",
   "execution_count": 25,
   "metadata": {},
   "outputs": [],
   "source": [
    "#区间转换为[-0.5, 0.5]\n",
    "result = []\n",
    "i = 0\n",
    "while i<len(sentimentslist):\n",
    "    result.append(sentimentslist[i]-0.5)\n",
    "    i = i + 1"
   ]
  },
  {
   "cell_type": "code",
   "execution_count": 26,
   "metadata": {
    "pycharm": {
     "name": "#%%\n"
    }
   },
   "outputs": [
    {
     "data": {
      "image/png": "[encoded data removed]",
      "text/plain": [
       "<Figure size 432x288 with 1 Axes>"
      ]
     },
     "metadata": {
      "needs_background": "light"
     },
     "output_type": "display_data"
    }
   ],
   "source": [
    "#可视化画图\n",
    "import matplotlib.pyplot as plt\n",
    "import numpy as np\n",
    "plt.plot(result, 'k-')\n",
    "plt.xlabel('Number')\n",
    "plt.ylabel('Sentiment')\n",
    "plt.title('Analysis of Sentiments')\n",
    "plt.show()"
   ]
  },
  {
   "cell_type": "code",
   "execution_count": null,
   "metadata": {
    "collapsed": false,
    "pycharm": {
     "name": "#%%\n"
    }
   },
   "outputs": [],
   "source": []
  }
 ],
 "metadata": {
  "interpreter": {
   "hash": "9d063fc264da33a9568bce20a9e53c95631362be94737b6a5312f6f5f347591c"
  },
  "kernelspec": {
   "display_name": "Python 3.8.2 64-bit ('.venv_38': venv)",
   "language": "python",
   "name": "python3"
  },
  "language_info": {
   "codemirror_mode": {
    "name": "ipython",
    "version": 3
   },
   "file_extension": ".py",
   "mimetype": "text/x-python",
   "name": "python",
   "nbconvert_exporter": "python",
   "pygments_lexer": "ipython3",
   "version": "3.8.0"
  },
  "orig_nbformat": 4
 },
 "nbformat": 4,
 "nbformat_minor": 2
}

{
 "cells": [
  {
   "cell_type": "code",
   "execution_count": 1,
   "metadata": {},
   "outputs": [],
   "source": [
    "import codecs\n",
    "import jieba\n",
    "import jieba.posseg as pseg\n",
    "import jieba.analyse\n",
    "import paddle\n",
    "import re"
   ]
  },
  {
   "cell_type": "code",
   "execution_count": 2,
   "metadata": {},
   "outputs": [
    {
     "name": "stderr",
     "output_type": "stream",
     "text": [
      "Paddle enabled successfully......\n",
      "Building prefix dict from the default dictionary ...\n",
      "Dumping model to file cache /var/folders/q9/0yjtkz2x1mq4f7qlvql797l80000gn/T/jieba.cache\n",
      "Loading model cost 1.133 seconds.\n",
      "Prefix dict has been built successfully.\n"
     ]
    }
   ],
   "source": [
    "paddle.enable_static()\n",
    "jieba.enable_paddle()\n",
    "jieba.load_userdict('../resource/dict.txt.big')\n",
    "jieba.analyse.set_stop_words(\"../resource/stopwords.txt\")"
   ]
  },
  {
   "cell_type": "code",
   "execution_count": 3,
   "metadata": {},
   "outputs": [],
   "source": [
    "names = {}\n",
    "relationships = {}\n",
    "lineNames = []"
   ]
  },
  {
   "cell_type": "code",
   "execution_count": 4,
   "metadata": {},
   "outputs": [],
   "source": [
    "with open('../resource/stopwords.txt', 'r', encoding='utf8') as f:\n",
    "    stops = f.read().split('\\n')"
   ]
  },
  {
   "cell_type": "code",
   "execution_count": 5,
   "metadata": {},
   "outputs": [],
   "source": [
    "text=open(\"../1.txt\", encoding='utf-8').read()\n",
    "#text=text.replace('\\n','')"
   ]
  },
  {
   "cell_type": "code",
   "execution_count": 6,
   "metadata": {},
   "outputs": [],
   "source": [
    "punc = \"[【】╮╯▽╰╭★→「」！，❤。～《》：()／（）”“；：、！：，。？、~@#￥%……&*]+\"\n",
    "token = \" \".join(jieba.cut(text,cut_all=False,use_paddle=True))\n",
    "# 移除停用字\n",
    "token = \" \".join([term for term in token.split() if term not in stops])\n",
    "# 移除標點符號\n",
    "token = re.sub(punc, \"\", token)\n",
    "poss = pseg.cut(token,use_paddle=True)        # 分词并返回该词词性\n",
    "lineNames.append([])        # 为新读入的一段添加人物名称列表\n",
    "for w in poss:\n",
    "    if w.flag != \"nr\" and \"nrt\" or len(w.word)<2:\n",
    "        #w.flag != \"nr\" or  w.flag != \"nrt\" or len(w.word)<2 \n",
    "        continue            # 当分词长度小于2或该词词性不为nr时认为该词不为人名\n",
    "    lineNames[-1].append(w.word)        # 为当前段的环境增加一个人物\n",
    "    if names.get(w.word) is None:\n",
    "        names[w.word] = 0\n",
    "        relationships[w.word] = {}\n",
    "    names[w.word] += 1                    # 该人物出现次数加 1"
   ]
  },
  {
   "cell_type": "code",
   "execution_count": 7,
   "metadata": {},
   "outputs": [],
   "source": [
    "for line in lineNames:                    # 对于每一段\n",
    "    for name1 in line:                    \n",
    "        for name2 in line:                # 每段中的任意两个人\n",
    "            if name1 == name2:\n",
    "                continue\n",
    "            if relationships[name1].get(name2) is None:        # 若两人尚未同时出现则新建项\n",
    "                relationships[name1][name2]= 1\n",
    "            else:\n",
    "                relationships[name1][name2] = relationships[name1][name2]+ 1        # 两人共同出现次数加 1"
   ]
  },
  {
   "cell_type": "code",
   "execution_count": 8,
   "metadata": {},
   "outputs": [],
   "source": [
    "with codecs.open(\"node.txt\", \"w\", \"utf8\") as f:\n",
    "    f.write(\"Id Label Weight\\r\\n\")\n",
    "    for name, times in names.items():\n",
    "        f.write(name + \" \" + name + \" \" + str(times) + \"\\r\\n\")\n",
    " \n",
    "with codecs.open(\"edge.txt\", \"w\", \"utf8\") as f:\n",
    "    f.write(\"Source Target Weight\\r\\n\")\n",
    "    for name, edges in relationships.items():\n",
    "        for v, w in edges.items():\n",
    "            if w > 3:\n",
    "                f.write(name + \" \" + v + \" \" + str(w) + \"\\r\\n\")"
   ]
  },
  {
   "cell_type": "code",
   "execution_count": null,
   "metadata": {},
   "outputs": [],
   "source": []
  }
 ],
 "metadata": {
  "interpreter": {
   "hash": "9d063fc264da33a9568bce20a9e53c95631362be94737b6a5312f6f5f347591c"
  },
  "kernelspec": {
   "display_name": "Python 3.8.2 64-bit ('.venv_38': venv)",
   "language": "python",
   "name": "python3"
  },
  "language_info": {
   "codemirror_mode": {
    "name": "ipython",
    "version": 3
   },
   "file_extension": ".py",
   "mimetype": "text/x-python",
   "name": "python",
   "nbconvert_exporter": "python",
   "pygments_lexer": "ipython3",
   "version": "3.8.0"
  },
  "orig_nbformat": 4
 },
 "nbformat": 4,
 "nbformat_minor": 2
}
